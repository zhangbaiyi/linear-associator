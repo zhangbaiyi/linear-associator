{
 "cells": [
  {
   "metadata": {
    "ExecuteTime": {
     "end_time": "2024-04-24T19:07:48.467323Z",
     "start_time": "2024-04-24T19:07:47.967651Z"
    }
   },
   "cell_type": "code",
   "source": [
    "import pandas as pd\n",
    "import numpy as np\n",
    "import matplotlib.pyplot as plt"
   ],
   "outputs": [],
   "execution_count": 1
  },
  {
   "metadata": {
    "ExecuteTime": {
     "end_time": "2024-04-24T19:07:54.728333Z",
     "start_time": "2024-04-24T19:07:53.311619Z"
    }
   },
   "cell_type": "code",
   "source": [
    "from keras.models import Sequential\n",
    "from keras.layers import LSTM\n",
    "from keras.layers import Dropout\n",
    "from keras.layers import Dense"
   ],
   "outputs": [],
   "execution_count": 2
  },
  {
   "metadata": {
    "ExecuteTime": {
     "end_time": "2024-04-24T19:08:08.714165Z",
     "start_time": "2024-04-24T19:08:08.711668Z"
    }
   },
   "cell_type": "code",
   "source": "from sklearn.model_selection import train_test_split",
   "outputs": [],
   "execution_count": 4
  },
  {
   "metadata": {
    "ExecuteTime": {
     "end_time": "2024-04-24T19:08:10.894061Z",
     "start_time": "2024-04-24T19:08:10.885693Z"
    }
   },
   "cell_type": "code",
   "source": "btc = pd.read_csv('data/bitcoin_return.csv')",
   "outputs": [],
   "execution_count": 5
  },
  {
   "metadata": {
    "ExecuteTime": {
     "end_time": "2024-04-24T19:08:11.574905Z",
     "start_time": "2024-04-24T19:08:11.569034Z"
    }
   },
   "cell_type": "code",
   "source": "print(btc.head())",
   "outputs": [
    {
     "name": "stdout",
     "output_type": "stream",
     "text": [
      "                        date  daily_return  return_1w  return_1m  return_1q  \\\n",
      "0  2017-05-29 00:00:00+00:00      0.026365   0.037247   0.629222   0.857192   \n",
      "1  2017-05-30 00:00:00+00:00      0.017545   0.026851   0.655003   0.868832   \n",
      "2  2017-05-31 00:00:00+00:00     -0.010502  -0.055221   0.570208   0.800043   \n",
      "3  2017-06-01 00:00:00+00:00      0.065134  -0.068191   0.618931   0.866019   \n",
      "4  2017-06-02 00:00:00+00:00      0.014951   0.014786   0.615984   0.893917   \n",
      "\n",
      "   return_1y  \n",
      "0   3.223767  \n",
      "1   3.232526  \n",
      "2   3.171874  \n",
      "3   3.460404  \n",
      "4   3.503223  \n"
     ]
    }
   ],
   "execution_count": 6
  },
  {
   "metadata": {
    "ExecuteTime": {
     "end_time": "2024-04-24T19:40:20.450173Z",
     "start_time": "2024-04-24T19:40:19.615702Z"
    }
   },
   "cell_type": "code",
   "source": [
    "btc_target = btc['daily_return'].copy()\n",
    "btc_binary = btc_target.apply(lambda x: 1 if x > 0 else -1)\n",
    "plt.barh(btc_target.value_counts().index, btc_binary.value_counts().values)\n",
    "plt.show()"
   ],
   "outputs": [
    {
     "ename": "ValueError",
     "evalue": "shape mismatch: objects cannot be broadcast to a single shape.  Mismatch is between arg 2 with shape (2,) and arg 3 with shape (1677,).",
     "output_type": "error",
     "traceback": [
      "\u001B[0;31m---------------------------------------------------------------------------\u001B[0m",
      "\u001B[0;31mValueError\u001B[0m                                Traceback (most recent call last)",
      "Cell \u001B[0;32mIn[28], line 3\u001B[0m\n\u001B[1;32m      1\u001B[0m btc_target \u001B[38;5;241m=\u001B[39m btc[\u001B[38;5;124m'\u001B[39m\u001B[38;5;124mdaily_return\u001B[39m\u001B[38;5;124m'\u001B[39m]\u001B[38;5;241m.\u001B[39mcopy()\n\u001B[1;32m      2\u001B[0m btc_binary \u001B[38;5;241m=\u001B[39m btc_target\u001B[38;5;241m.\u001B[39mapply(\u001B[38;5;28;01mlambda\u001B[39;00m x: \u001B[38;5;241m1\u001B[39m \u001B[38;5;28;01mif\u001B[39;00m x \u001B[38;5;241m>\u001B[39m \u001B[38;5;241m0\u001B[39m \u001B[38;5;28;01melse\u001B[39;00m \u001B[38;5;241m-\u001B[39m\u001B[38;5;241m1\u001B[39m)\n\u001B[0;32m----> 3\u001B[0m \u001B[43mplt\u001B[49m\u001B[38;5;241;43m.\u001B[39;49m\u001B[43mbarh\u001B[49m\u001B[43m(\u001B[49m\u001B[43mbtc_target\u001B[49m\u001B[38;5;241;43m.\u001B[39;49m\u001B[43mvalue_counts\u001B[49m\u001B[43m(\u001B[49m\u001B[43m)\u001B[49m\u001B[38;5;241;43m.\u001B[39;49m\u001B[43mindex\u001B[49m\u001B[43m,\u001B[49m\u001B[43m \u001B[49m\u001B[43mbtc_binary\u001B[49m\u001B[38;5;241;43m.\u001B[39;49m\u001B[43mvalue_counts\u001B[49m\u001B[43m(\u001B[49m\u001B[43m)\u001B[49m\u001B[38;5;241;43m.\u001B[39;49m\u001B[43mvalues\u001B[49m\u001B[43m)\u001B[49m\n\u001B[1;32m      4\u001B[0m plt\u001B[38;5;241m.\u001B[39mshow()\n",
      "File \u001B[0;32m/opt/homebrew/anaconda3/envs/ml/lib/python3.9/site-packages/matplotlib/pyplot.py:2771\u001B[0m, in \u001B[0;36mbarh\u001B[0;34m(y, width, height, left, align, data, **kwargs)\u001B[0m\n\u001B[1;32m   2760\u001B[0m \u001B[38;5;129m@_copy_docstring_and_deprecators\u001B[39m(Axes\u001B[38;5;241m.\u001B[39mbarh)\n\u001B[1;32m   2761\u001B[0m \u001B[38;5;28;01mdef\u001B[39;00m \u001B[38;5;21mbarh\u001B[39m(\n\u001B[1;32m   2762\u001B[0m     y: \u001B[38;5;28mfloat\u001B[39m \u001B[38;5;241m|\u001B[39m ArrayLike,\n\u001B[0;32m   (...)\u001B[0m\n\u001B[1;32m   2769\u001B[0m     \u001B[38;5;241m*\u001B[39m\u001B[38;5;241m*\u001B[39mkwargs,\n\u001B[1;32m   2770\u001B[0m ) \u001B[38;5;241m-\u001B[39m\u001B[38;5;241m>\u001B[39m BarContainer:\n\u001B[0;32m-> 2771\u001B[0m     \u001B[38;5;28;01mreturn\u001B[39;00m \u001B[43mgca\u001B[49m\u001B[43m(\u001B[49m\u001B[43m)\u001B[49m\u001B[38;5;241;43m.\u001B[39;49m\u001B[43mbarh\u001B[49m\u001B[43m(\u001B[49m\n\u001B[1;32m   2772\u001B[0m \u001B[43m        \u001B[49m\u001B[43my\u001B[49m\u001B[43m,\u001B[49m\n\u001B[1;32m   2773\u001B[0m \u001B[43m        \u001B[49m\u001B[43mwidth\u001B[49m\u001B[43m,\u001B[49m\n\u001B[1;32m   2774\u001B[0m \u001B[43m        \u001B[49m\u001B[43mheight\u001B[49m\u001B[38;5;241;43m=\u001B[39;49m\u001B[43mheight\u001B[49m\u001B[43m,\u001B[49m\n\u001B[1;32m   2775\u001B[0m \u001B[43m        \u001B[49m\u001B[43mleft\u001B[49m\u001B[38;5;241;43m=\u001B[39;49m\u001B[43mleft\u001B[49m\u001B[43m,\u001B[49m\n\u001B[1;32m   2776\u001B[0m \u001B[43m        \u001B[49m\u001B[43malign\u001B[49m\u001B[38;5;241;43m=\u001B[39;49m\u001B[43malign\u001B[49m\u001B[43m,\u001B[49m\n\u001B[1;32m   2777\u001B[0m \u001B[43m        \u001B[49m\u001B[38;5;241;43m*\u001B[39;49m\u001B[38;5;241;43m*\u001B[39;49m\u001B[43m(\u001B[49m\u001B[43m{\u001B[49m\u001B[38;5;124;43m\"\u001B[39;49m\u001B[38;5;124;43mdata\u001B[39;49m\u001B[38;5;124;43m\"\u001B[39;49m\u001B[43m:\u001B[49m\u001B[43m \u001B[49m\u001B[43mdata\u001B[49m\u001B[43m}\u001B[49m\u001B[43m \u001B[49m\u001B[38;5;28;43;01mif\u001B[39;49;00m\u001B[43m \u001B[49m\u001B[43mdata\u001B[49m\u001B[43m \u001B[49m\u001B[38;5;129;43;01mis\u001B[39;49;00m\u001B[43m \u001B[49m\u001B[38;5;129;43;01mnot\u001B[39;49;00m\u001B[43m \u001B[49m\u001B[38;5;28;43;01mNone\u001B[39;49;00m\u001B[43m \u001B[49m\u001B[38;5;28;43;01melse\u001B[39;49;00m\u001B[43m \u001B[49m\u001B[43m{\u001B[49m\u001B[43m}\u001B[49m\u001B[43m)\u001B[49m\u001B[43m,\u001B[49m\n\u001B[1;32m   2778\u001B[0m \u001B[43m        \u001B[49m\u001B[38;5;241;43m*\u001B[39;49m\u001B[38;5;241;43m*\u001B[39;49m\u001B[43mkwargs\u001B[49m\u001B[43m,\u001B[49m\n\u001B[1;32m   2779\u001B[0m \u001B[43m    \u001B[49m\u001B[43m)\u001B[49m\n",
      "File \u001B[0;32m/opt/homebrew/anaconda3/envs/ml/lib/python3.9/site-packages/matplotlib/axes/_axes.py:2698\u001B[0m, in \u001B[0;36mAxes.barh\u001B[0;34m(self, y, width, height, left, align, data, **kwargs)\u001B[0m\n\u001B[1;32m   2579\u001B[0m \u001B[38;5;250m\u001B[39m\u001B[38;5;124mr\u001B[39m\u001B[38;5;124;03m\"\"\"\u001B[39;00m\n\u001B[1;32m   2580\u001B[0m \u001B[38;5;124;03mMake a horizontal bar plot.\u001B[39;00m\n\u001B[1;32m   2581\u001B[0m \n\u001B[0;32m   (...)\u001B[0m\n\u001B[1;32m   2695\u001B[0m \u001B[38;5;124;03m:doc:`/gallery/lines_bars_and_markers/horizontal_barchart_distribution`.\u001B[39;00m\n\u001B[1;32m   2696\u001B[0m \u001B[38;5;124;03m\"\"\"\u001B[39;00m\n\u001B[1;32m   2697\u001B[0m kwargs\u001B[38;5;241m.\u001B[39msetdefault(\u001B[38;5;124m'\u001B[39m\u001B[38;5;124morientation\u001B[39m\u001B[38;5;124m'\u001B[39m, \u001B[38;5;124m'\u001B[39m\u001B[38;5;124mhorizontal\u001B[39m\u001B[38;5;124m'\u001B[39m)\n\u001B[0;32m-> 2698\u001B[0m patches \u001B[38;5;241m=\u001B[39m \u001B[38;5;28;43mself\u001B[39;49m\u001B[38;5;241;43m.\u001B[39;49m\u001B[43mbar\u001B[49m\u001B[43m(\u001B[49m\u001B[43mx\u001B[49m\u001B[38;5;241;43m=\u001B[39;49m\u001B[43mleft\u001B[49m\u001B[43m,\u001B[49m\u001B[43m \u001B[49m\u001B[43mheight\u001B[49m\u001B[38;5;241;43m=\u001B[39;49m\u001B[43mheight\u001B[49m\u001B[43m,\u001B[49m\u001B[43m \u001B[49m\u001B[43mwidth\u001B[49m\u001B[38;5;241;43m=\u001B[39;49m\u001B[43mwidth\u001B[49m\u001B[43m,\u001B[49m\u001B[43m \u001B[49m\u001B[43mbottom\u001B[49m\u001B[38;5;241;43m=\u001B[39;49m\u001B[43my\u001B[49m\u001B[43m,\u001B[49m\n\u001B[1;32m   2699\u001B[0m \u001B[43m                   \u001B[49m\u001B[43malign\u001B[49m\u001B[38;5;241;43m=\u001B[39;49m\u001B[43malign\u001B[49m\u001B[43m,\u001B[49m\u001B[43m \u001B[49m\u001B[43mdata\u001B[49m\u001B[38;5;241;43m=\u001B[39;49m\u001B[43mdata\u001B[49m\u001B[43m,\u001B[49m\u001B[43m \u001B[49m\u001B[38;5;241;43m*\u001B[39;49m\u001B[38;5;241;43m*\u001B[39;49m\u001B[43mkwargs\u001B[49m\u001B[43m)\u001B[49m\n\u001B[1;32m   2700\u001B[0m \u001B[38;5;28;01mreturn\u001B[39;00m patches\n",
      "File \u001B[0;32m/opt/homebrew/anaconda3/envs/ml/lib/python3.9/site-packages/matplotlib/__init__.py:1465\u001B[0m, in \u001B[0;36m_preprocess_data.<locals>.inner\u001B[0;34m(ax, data, *args, **kwargs)\u001B[0m\n\u001B[1;32m   1462\u001B[0m \u001B[38;5;129m@functools\u001B[39m\u001B[38;5;241m.\u001B[39mwraps(func)\n\u001B[1;32m   1463\u001B[0m \u001B[38;5;28;01mdef\u001B[39;00m \u001B[38;5;21minner\u001B[39m(ax, \u001B[38;5;241m*\u001B[39margs, data\u001B[38;5;241m=\u001B[39m\u001B[38;5;28;01mNone\u001B[39;00m, \u001B[38;5;241m*\u001B[39m\u001B[38;5;241m*\u001B[39mkwargs):\n\u001B[1;32m   1464\u001B[0m     \u001B[38;5;28;01mif\u001B[39;00m data \u001B[38;5;129;01mis\u001B[39;00m \u001B[38;5;28;01mNone\u001B[39;00m:\n\u001B[0;32m-> 1465\u001B[0m         \u001B[38;5;28;01mreturn\u001B[39;00m \u001B[43mfunc\u001B[49m\u001B[43m(\u001B[49m\u001B[43max\u001B[49m\u001B[43m,\u001B[49m\u001B[43m \u001B[49m\u001B[38;5;241;43m*\u001B[39;49m\u001B[38;5;28;43mmap\u001B[39;49m\u001B[43m(\u001B[49m\u001B[43msanitize_sequence\u001B[49m\u001B[43m,\u001B[49m\u001B[43m \u001B[49m\u001B[43margs\u001B[49m\u001B[43m)\u001B[49m\u001B[43m,\u001B[49m\u001B[43m \u001B[49m\u001B[38;5;241;43m*\u001B[39;49m\u001B[38;5;241;43m*\u001B[39;49m\u001B[43mkwargs\u001B[49m\u001B[43m)\u001B[49m\n\u001B[1;32m   1467\u001B[0m     bound \u001B[38;5;241m=\u001B[39m new_sig\u001B[38;5;241m.\u001B[39mbind(ax, \u001B[38;5;241m*\u001B[39margs, \u001B[38;5;241m*\u001B[39m\u001B[38;5;241m*\u001B[39mkwargs)\n\u001B[1;32m   1468\u001B[0m     auto_label \u001B[38;5;241m=\u001B[39m (bound\u001B[38;5;241m.\u001B[39marguments\u001B[38;5;241m.\u001B[39mget(label_namer)\n\u001B[1;32m   1469\u001B[0m                   \u001B[38;5;129;01mor\u001B[39;00m bound\u001B[38;5;241m.\u001B[39mkwargs\u001B[38;5;241m.\u001B[39mget(label_namer))\n",
      "File \u001B[0;32m/opt/homebrew/anaconda3/envs/ml/lib/python3.9/site-packages/matplotlib/axes/_axes.py:2457\u001B[0m, in \u001B[0;36mAxes.bar\u001B[0;34m(self, x, height, width, bottom, align, **kwargs)\u001B[0m\n\u001B[1;32m   2454\u001B[0m     \u001B[38;5;28;01mif\u001B[39;00m yerr \u001B[38;5;129;01mis\u001B[39;00m \u001B[38;5;129;01mnot\u001B[39;00m \u001B[38;5;28;01mNone\u001B[39;00m:\n\u001B[1;32m   2455\u001B[0m         yerr \u001B[38;5;241m=\u001B[39m \u001B[38;5;28mself\u001B[39m\u001B[38;5;241m.\u001B[39m_convert_dx(yerr, y0, y, \u001B[38;5;28mself\u001B[39m\u001B[38;5;241m.\u001B[39mconvert_yunits)\n\u001B[0;32m-> 2457\u001B[0m x, height, width, y, linewidth, hatch \u001B[38;5;241m=\u001B[39m \u001B[43mnp\u001B[49m\u001B[38;5;241;43m.\u001B[39;49m\u001B[43mbroadcast_arrays\u001B[49m\u001B[43m(\u001B[49m\n\u001B[1;32m   2458\u001B[0m \u001B[43m    \u001B[49m\u001B[38;5;66;43;03m# Make args iterable too.\u001B[39;49;00m\n\u001B[1;32m   2459\u001B[0m \u001B[43m    \u001B[49m\u001B[43mnp\u001B[49m\u001B[38;5;241;43m.\u001B[39;49m\u001B[43matleast_1d\u001B[49m\u001B[43m(\u001B[49m\u001B[43mx\u001B[49m\u001B[43m)\u001B[49m\u001B[43m,\u001B[49m\u001B[43m \u001B[49m\u001B[43mheight\u001B[49m\u001B[43m,\u001B[49m\u001B[43m \u001B[49m\u001B[43mwidth\u001B[49m\u001B[43m,\u001B[49m\u001B[43m \u001B[49m\u001B[43my\u001B[49m\u001B[43m,\u001B[49m\u001B[43m \u001B[49m\u001B[43mlinewidth\u001B[49m\u001B[43m,\u001B[49m\u001B[43m \u001B[49m\u001B[43mhatch\u001B[49m\u001B[43m)\u001B[49m\n\u001B[1;32m   2461\u001B[0m \u001B[38;5;66;03m# Now that units have been converted, set the tick locations.\u001B[39;00m\n\u001B[1;32m   2462\u001B[0m \u001B[38;5;28;01mif\u001B[39;00m orientation \u001B[38;5;241m==\u001B[39m \u001B[38;5;124m'\u001B[39m\u001B[38;5;124mvertical\u001B[39m\u001B[38;5;124m'\u001B[39m:\n",
      "File \u001B[0;32m<__array_function__ internals>:180\u001B[0m, in \u001B[0;36mbroadcast_arrays\u001B[0;34m(*args, **kwargs)\u001B[0m\n",
      "File \u001B[0;32m/opt/homebrew/anaconda3/envs/ml/lib/python3.9/site-packages/numpy/lib/stride_tricks.py:540\u001B[0m, in \u001B[0;36mbroadcast_arrays\u001B[0;34m(subok, *args)\u001B[0m\n\u001B[1;32m    533\u001B[0m \u001B[38;5;66;03m# nditer is not used here to avoid the limit of 32 arrays.\u001B[39;00m\n\u001B[1;32m    534\u001B[0m \u001B[38;5;66;03m# Otherwise, something like the following one-liner would suffice:\u001B[39;00m\n\u001B[1;32m    535\u001B[0m \u001B[38;5;66;03m# return np.nditer(args, flags=['multi_index', 'zerosize_ok'],\u001B[39;00m\n\u001B[1;32m    536\u001B[0m \u001B[38;5;66;03m#                  order='C').itviews\u001B[39;00m\n\u001B[1;32m    538\u001B[0m args \u001B[38;5;241m=\u001B[39m [np\u001B[38;5;241m.\u001B[39marray(_m, copy\u001B[38;5;241m=\u001B[39m\u001B[38;5;28;01mFalse\u001B[39;00m, subok\u001B[38;5;241m=\u001B[39msubok) \u001B[38;5;28;01mfor\u001B[39;00m _m \u001B[38;5;129;01min\u001B[39;00m args]\n\u001B[0;32m--> 540\u001B[0m shape \u001B[38;5;241m=\u001B[39m \u001B[43m_broadcast_shape\u001B[49m\u001B[43m(\u001B[49m\u001B[38;5;241;43m*\u001B[39;49m\u001B[43margs\u001B[49m\u001B[43m)\u001B[49m\n\u001B[1;32m    542\u001B[0m \u001B[38;5;28;01mif\u001B[39;00m \u001B[38;5;28mall\u001B[39m(array\u001B[38;5;241m.\u001B[39mshape \u001B[38;5;241m==\u001B[39m shape \u001B[38;5;28;01mfor\u001B[39;00m array \u001B[38;5;129;01min\u001B[39;00m args):\n\u001B[1;32m    543\u001B[0m     \u001B[38;5;66;03m# Common case where nothing needs to be broadcasted.\u001B[39;00m\n\u001B[1;32m    544\u001B[0m     \u001B[38;5;28;01mreturn\u001B[39;00m args\n",
      "File \u001B[0;32m/opt/homebrew/anaconda3/envs/ml/lib/python3.9/site-packages/numpy/lib/stride_tricks.py:422\u001B[0m, in \u001B[0;36m_broadcast_shape\u001B[0;34m(*args)\u001B[0m\n\u001B[1;32m    417\u001B[0m \u001B[38;5;250m\u001B[39m\u001B[38;5;124;03m\"\"\"Returns the shape of the arrays that would result from broadcasting the\u001B[39;00m\n\u001B[1;32m    418\u001B[0m \u001B[38;5;124;03msupplied arrays against each other.\u001B[39;00m\n\u001B[1;32m    419\u001B[0m \u001B[38;5;124;03m\"\"\"\u001B[39;00m\n\u001B[1;32m    420\u001B[0m \u001B[38;5;66;03m# use the old-iterator because np.nditer does not handle size 0 arrays\u001B[39;00m\n\u001B[1;32m    421\u001B[0m \u001B[38;5;66;03m# consistently\u001B[39;00m\n\u001B[0;32m--> 422\u001B[0m b \u001B[38;5;241m=\u001B[39m \u001B[43mnp\u001B[49m\u001B[38;5;241;43m.\u001B[39;49m\u001B[43mbroadcast\u001B[49m\u001B[43m(\u001B[49m\u001B[38;5;241;43m*\u001B[39;49m\u001B[43margs\u001B[49m\u001B[43m[\u001B[49m\u001B[43m:\u001B[49m\u001B[38;5;241;43m32\u001B[39;49m\u001B[43m]\u001B[49m\u001B[43m)\u001B[49m\n\u001B[1;32m    423\u001B[0m \u001B[38;5;66;03m# unfortunately, it cannot handle 32 or more arguments directly\u001B[39;00m\n\u001B[1;32m    424\u001B[0m \u001B[38;5;28;01mfor\u001B[39;00m pos \u001B[38;5;129;01min\u001B[39;00m \u001B[38;5;28mrange\u001B[39m(\u001B[38;5;241m32\u001B[39m, \u001B[38;5;28mlen\u001B[39m(args), \u001B[38;5;241m31\u001B[39m):\n\u001B[1;32m    425\u001B[0m     \u001B[38;5;66;03m# ironically, np.broadcast does not properly handle np.broadcast\u001B[39;00m\n\u001B[1;32m    426\u001B[0m     \u001B[38;5;66;03m# objects (it treats them as scalars)\u001B[39;00m\n\u001B[1;32m    427\u001B[0m     \u001B[38;5;66;03m# use broadcasting to avoid allocating the full array\u001B[39;00m\n",
      "\u001B[0;31mValueError\u001B[0m: shape mismatch: objects cannot be broadcast to a single shape.  Mismatch is between arg 2 with shape (2,) and arg 3 with shape (1677,)."
     ]
    },
    {
     "data": {
      "text/plain": [
       "<Figure size 640x480 with 1 Axes>"
      ],
      "image/png": "[encoded data removed]"
     },
     "metadata": {},
     "output_type": "display_data"
    }
   ],
   "execution_count": 28
  },
  {
   "metadata": {
    "ExecuteTime": {
     "end_time": "2024-04-24T19:40:24.080477Z",
     "start_time": "2024-04-24T19:40:24.077328Z"
    }
   },
   "cell_type": "code",
   "source": "btc_features = btc.drop(['daily_return','date'], axis=1).copy()",
   "outputs": [],
   "execution_count": 29
  },
  {
   "metadata": {
    "ExecuteTime": {
     "end_time": "2024-04-24T19:41:00.683761Z",
     "start_time": "2024-04-24T19:40:32.458423Z"
    }
   },
   "cell_type": "code",
   "source": [
    "model = Sequential()\n",
    "model.add(LSTM(units=50,return_sequences=True,input_shape=(btc_features.shape[1],1)))\n",
    "model.add(Dropout(0.2))\n",
    "model.add(LSTM(units=50,return_sequences=True))\n",
    "model.add(Dropout(0.2))\n",
    "model.add(LSTM(units=50,return_sequences=True))\n",
    "model.add(Dropout(0.2))\n",
    "model.add(LSTM(units=50))\n",
    "model.add(Dropout(0.2))\n",
    "model.add(Dense(units=1))\n",
    "model.compile(optimizer='adam',loss='mean_squared_error')\n",
    "model.fit(btc_features,btc_binary,epochs=100,batch_size=32)"
   ],
   "outputs": [
    {
     "name": "stderr",
     "output_type": "stream",
     "text": [
      "2024-04-24 15:40:32.532478: I tensorflow/core/common_runtime/executor.cc:1197] [/device:CPU:0] (DEBUG INFO) Executor start aborting (this does not indicate an error and you can ignore this message): INVALID_ARGUMENT: You must feed a value for placeholder tensor 'gradients/split_2_grad/concat/split_2/split_dim' with dtype int32\n",
      "\t [[{{node gradients/split_2_grad/concat/split_2/split_dim}}]]\n",
      "2024-04-24 15:40:32.532936: I tensorflow/core/common_runtime/executor.cc:1197] [/device:CPU:0] (DEBUG INFO) Executor start aborting (this does not indicate an error and you can ignore this message): INVALID_ARGUMENT: You must feed a value for placeholder tensor 'gradients/split_grad/concat/split/split_dim' with dtype int32\n",
      "\t [[{{node gradients/split_grad/concat/split/split_dim}}]]\n",
      "2024-04-24 15:40:32.533654: I tensorflow/core/common_runtime/executor.cc:1197] [/device:CPU:0] (DEBUG INFO) Executor start aborting (this does not indicate an error and you can ignore this message): INVALID_ARGUMENT: You must feed a value for placeholder tensor 'gradients/split_1_grad/concat/split_1/split_dim' with dtype int32\n",
      "\t [[{{node gradients/split_1_grad/concat/split_1/split_dim}}]]\n",
      "2024-04-24 15:40:32.604831: I tensorflow/core/common_runtime/executor.cc:1197] [/device:CPU:0] (DEBUG INFO) Executor start aborting (this does not indicate an error and you can ignore this message): INVALID_ARGUMENT: You must feed a value for placeholder tensor 'gradients/split_2_grad/concat/split_2/split_dim' with dtype int32\n",
      "\t [[{{node gradients/split_2_grad/concat/split_2/split_dim}}]]\n",
      "2024-04-24 15:40:32.605276: I tensorflow/core/common_runtime/executor.cc:1197] [/device:CPU:0] (DEBUG INFO) Executor start aborting (this does not indicate an error and you can ignore this message): INVALID_ARGUMENT: You must feed a value for placeholder tensor 'gradients/split_grad/concat/split/split_dim' with dtype int32\n",
      "\t [[{{node gradients/split_grad/concat/split/split_dim}}]]\n",
      "2024-04-24 15:40:32.605645: I tensorflow/core/common_runtime/executor.cc:1197] [/device:CPU:0] (DEBUG INFO) Executor start aborting (this does not indicate an error and you can ignore this message): INVALID_ARGUMENT: You must feed a value for placeholder tensor 'gradients/split_1_grad/concat/split_1/split_dim' with dtype int32\n",
      "\t [[{{node gradients/split_1_grad/concat/split_1/split_dim}}]]\n",
      "2024-04-24 15:40:32.673135: I tensorflow/core/common_runtime/executor.cc:1197] [/device:CPU:0] (DEBUG INFO) Executor start aborting (this does not indicate an error and you can ignore this message): INVALID_ARGUMENT: You must feed a value for placeholder tensor 'gradients/split_2_grad/concat/split_2/split_dim' with dtype int32\n",
      "\t [[{{node gradients/split_2_grad/concat/split_2/split_dim}}]]\n",
      "2024-04-24 15:40:32.673643: I tensorflow/core/common_runtime/executor.cc:1197] [/device:CPU:0] (DEBUG INFO) Executor start aborting (this does not indicate an error and you can ignore this message): INVALID_ARGUMENT: You must feed a value for placeholder tensor 'gradients/split_grad/concat/split/split_dim' with dtype int32\n",
      "\t [[{{node gradients/split_grad/concat/split/split_dim}}]]\n",
      "2024-04-24 15:40:32.674120: I tensorflow/core/common_runtime/executor.cc:1197] [/device:CPU:0] (DEBUG INFO) Executor start aborting (this does not indicate an error and you can ignore this message): INVALID_ARGUMENT: You must feed a value for placeholder tensor 'gradients/split_1_grad/concat/split_1/split_dim' with dtype int32\n",
      "\t [[{{node gradients/split_1_grad/concat/split_1/split_dim}}]]\n"
     ]
    },
    {
     "name": "stdout",
     "output_type": "stream",
     "text": [
      "Epoch 1/100\n"
     ]
    },
    {
     "name": "stderr",
     "output_type": "stream",
     "text": [
      "2024-04-24 15:40:32.742416: I tensorflow/core/common_runtime/executor.cc:1197] [/device:CPU:0] (DEBUG INFO) Executor start aborting (this does not indicate an error and you can ignore this message): INVALID_ARGUMENT: You must feed a value for placeholder tensor 'gradients/split_2_grad/concat/split_2/split_dim' with dtype int32\n",
      "\t [[{{node gradients/split_2_grad/concat/split_2/split_dim}}]]\n",
      "2024-04-24 15:40:32.742845: I tensorflow/core/common_runtime/executor.cc:1197] [/device:CPU:0] (DEBUG INFO) Executor start aborting (this does not indicate an error and you can ignore this message): INVALID_ARGUMENT: You must feed a value for placeholder tensor 'gradients/split_grad/concat/split/split_dim' with dtype int32\n",
      "\t [[{{node gradients/split_grad/concat/split/split_dim}}]]\n",
      "2024-04-24 15:40:32.743398: I tensorflow/core/common_runtime/executor.cc:1197] [/device:CPU:0] (DEBUG INFO) Executor start aborting (this does not indicate an error and you can ignore this message): INVALID_ARGUMENT: You must feed a value for placeholder tensor 'gradients/split_1_grad/concat/split_1/split_dim' with dtype int32\n",
      "\t [[{{node gradients/split_1_grad/concat/split_1/split_dim}}]]\n",
      "2024-04-24 15:40:32.845862: I tensorflow/core/common_runtime/executor.cc:1197] [/device:CPU:0] (DEBUG INFO) Executor start aborting (this does not indicate an error and you can ignore this message): INVALID_ARGUMENT: You must feed a value for placeholder tensor 'gradients/split_2_grad/concat/split_2/split_dim' with dtype int32\n",
      "\t [[{{node gradients/split_2_grad/concat/split_2/split_dim}}]]\n",
      "2024-04-24 15:40:32.846303: I tensorflow/core/common_runtime/executor.cc:1197] [/device:CPU:0] (DEBUG INFO) Executor start aborting (this does not indicate an error and you can ignore this message): INVALID_ARGUMENT: You must feed a value for placeholder tensor 'gradients/split_grad/concat/split/split_dim' with dtype int32\n",
      "\t [[{{node gradients/split_grad/concat/split/split_dim}}]]\n",
      "2024-04-24 15:40:32.846664: I tensorflow/core/common_runtime/executor.cc:1197] [/device:CPU:0] (DEBUG INFO) Executor start aborting (this does not indicate an error and you can ignore this message): INVALID_ARGUMENT: You must feed a value for placeholder tensor 'gradients/split_1_grad/concat/split_1/split_dim' with dtype int32\n",
      "\t [[{{node gradients/split_1_grad/concat/split_1/split_dim}}]]\n",
      "2024-04-24 15:40:32.915216: I tensorflow/core/common_runtime/executor.cc:1197] [/device:CPU:0] (DEBUG INFO) Executor start aborting (this does not indicate an error and you can ignore this message): INVALID_ARGUMENT: You must feed a value for placeholder tensor 'gradients/split_2_grad/concat/split_2/split_dim' with dtype int32\n",
      "\t [[{{node gradients/split_2_grad/concat/split_2/split_dim}}]]\n",
      "2024-04-24 15:40:32.915684: I tensorflow/core/common_runtime/executor.cc:1197] [/device:CPU:0] (DEBUG INFO) Executor start aborting (this does not indicate an error and you can ignore this message): INVALID_ARGUMENT: You must feed a value for placeholder tensor 'gradients/split_grad/concat/split/split_dim' with dtype int32\n",
      "\t [[{{node gradients/split_grad/concat/split/split_dim}}]]\n",
      "2024-04-24 15:40:32.916076: I tensorflow/core/common_runtime/executor.cc:1197] [/device:CPU:0] (DEBUG INFO) Executor start aborting (this does not indicate an error and you can ignore this message): INVALID_ARGUMENT: You must feed a value for placeholder tensor 'gradients/split_1_grad/concat/split_1/split_dim' with dtype int32\n",
      "\t [[{{node gradients/split_1_grad/concat/split_1/split_dim}}]]\n",
      "2024-04-24 15:40:32.988109: I tensorflow/core/common_runtime/executor.cc:1197] [/device:CPU:0] (DEBUG INFO) Executor start aborting (this does not indicate an error and you can ignore this message): INVALID_ARGUMENT: You must feed a value for placeholder tensor 'gradients/split_2_grad/concat/split_2/split_dim' with dtype int32\n",
      "\t [[{{node gradients/split_2_grad/concat/split_2/split_dim}}]]\n",
      "2024-04-24 15:40:32.988823: I tensorflow/core/common_runtime/executor.cc:1197] [/device:CPU:0] (DEBUG INFO) Executor start aborting (this does not indicate an error and you can ignore this message): INVALID_ARGUMENT: You must feed a value for placeholder tensor 'gradients/split_grad/concat/split/split_dim' with dtype int32\n",
      "\t [[{{node gradients/split_grad/concat/split/split_dim}}]]\n",
      "2024-04-24 15:40:32.989399: I tensorflow/core/common_runtime/executor.cc:1197] [/device:CPU:0] (DEBUG INFO) Executor start aborting (this does not indicate an error and you can ignore this message): INVALID_ARGUMENT: You must feed a value for placeholder tensor 'gradients/split_1_grad/concat/split_1/split_dim' with dtype int32\n",
      "\t [[{{node gradients/split_1_grad/concat/split_1/split_dim}}]]\n",
      "2024-04-24 15:40:33.062622: I tensorflow/core/common_runtime/executor.cc:1197] [/device:CPU:0] (DEBUG INFO) Executor start aborting (this does not indicate an error and you can ignore this message): INVALID_ARGUMENT: You must feed a value for placeholder tensor 'gradients/split_2_grad/concat/split_2/split_dim' with dtype int32\n",
      "\t [[{{node gradients/split_2_grad/concat/split_2/split_dim}}]]\n",
      "2024-04-24 15:40:33.063337: I tensorflow/core/common_runtime/executor.cc:1197] [/device:CPU:0] (DEBUG INFO) Executor start aborting (this does not indicate an error and you can ignore this message): INVALID_ARGUMENT: You must feed a value for placeholder tensor 'gradients/split_grad/concat/split/split_dim' with dtype int32\n",
      "\t [[{{node gradients/split_grad/concat/split/split_dim}}]]\n",
      "2024-04-24 15:40:33.063918: I tensorflow/core/common_runtime/executor.cc:1197] [/device:CPU:0] (DEBUG INFO) Executor start aborting (this does not indicate an error and you can ignore this message): INVALID_ARGUMENT: You must feed a value for placeholder tensor 'gradients/split_1_grad/concat/split_1/split_dim' with dtype int32\n",
      "\t [[{{node gradients/split_1_grad/concat/split_1/split_dim}}]]\n",
      "2024-04-24 15:40:33.644907: I tensorflow/core/common_runtime/executor.cc:1197] [/device:CPU:0] (DEBUG INFO) Executor start aborting (this does not indicate an error and you can ignore this message): INVALID_ARGUMENT: You must feed a value for placeholder tensor 'gradients/split_2_grad/concat/split_2/split_dim' with dtype int32\n",
      "\t [[{{node gradients/split_2_grad/concat/split_2/split_dim}}]]\n",
      "2024-04-24 15:40:33.645353: I tensorflow/core/common_runtime/executor.cc:1197] [/device:CPU:0] (DEBUG INFO) Executor start aborting (this does not indicate an error and you can ignore this message): INVALID_ARGUMENT: You must feed a value for placeholder tensor 'gradients/split_grad/concat/split/split_dim' with dtype int32\n",
      "\t [[{{node gradients/split_grad/concat/split/split_dim}}]]\n",
      "2024-04-24 15:40:33.646093: I tensorflow/core/common_runtime/executor.cc:1197] [/device:CPU:0] (DEBUG INFO) Executor start aborting (this does not indicate an error and you can ignore this message): INVALID_ARGUMENT: You must feed a value for placeholder tensor 'gradients/split_1_grad/concat/split_1/split_dim' with dtype int32\n",
      "\t [[{{node gradients/split_1_grad/concat/split_1/split_dim}}]]\n",
      "2024-04-24 15:40:33.711895: I tensorflow/core/common_runtime/executor.cc:1197] [/device:CPU:0] (DEBUG INFO) Executor start aborting (this does not indicate an error and you can ignore this message): INVALID_ARGUMENT: You must feed a value for placeholder tensor 'gradients/split_2_grad/concat/split_2/split_dim' with dtype int32\n",
      "\t [[{{node gradients/split_2_grad/concat/split_2/split_dim}}]]\n",
      "2024-04-24 15:40:33.712346: I tensorflow/core/common_runtime/executor.cc:1197] [/device:CPU:0] (DEBUG INFO) Executor start aborting (this does not indicate an error and you can ignore this message): INVALID_ARGUMENT: You must feed a value for placeholder tensor 'gradients/split_grad/concat/split/split_dim' with dtype int32\n",
      "\t [[{{node gradients/split_grad/concat/split/split_dim}}]]\n",
      "2024-04-24 15:40:33.712757: I tensorflow/core/common_runtime/executor.cc:1197] [/device:CPU:0] (DEBUG INFO) Executor start aborting (this does not indicate an error and you can ignore this message): INVALID_ARGUMENT: You must feed a value for placeholder tensor 'gradients/split_1_grad/concat/split_1/split_dim' with dtype int32\n",
      "\t [[{{node gradients/split_1_grad/concat/split_1/split_dim}}]]\n",
      "2024-04-24 15:40:33.779306: I tensorflow/core/common_runtime/executor.cc:1197] [/device:CPU:0] (DEBUG INFO) Executor start aborting (this does not indicate an error and you can ignore this message): INVALID_ARGUMENT: You must feed a value for placeholder tensor 'gradients/split_2_grad/concat/split_2/split_dim' with dtype int32\n",
      "\t [[{{node gradients/split_2_grad/concat/split_2/split_dim}}]]\n",
      "2024-04-24 15:40:33.779985: I tensorflow/core/common_runtime/executor.cc:1197] [/device:CPU:0] (DEBUG INFO) Executor start aborting (this does not indicate an error and you can ignore this message): INVALID_ARGUMENT: You must feed a value for placeholder tensor 'gradients/split_grad/concat/split/split_dim' with dtype int32\n",
      "\t [[{{node gradients/split_grad/concat/split/split_dim}}]]\n",
      "2024-04-24 15:40:33.780449: I tensorflow/core/common_runtime/executor.cc:1197] [/device:CPU:0] (DEBUG INFO) Executor start aborting (this does not indicate an error and you can ignore this message): INVALID_ARGUMENT: You must feed a value for placeholder tensor 'gradients/split_1_grad/concat/split_1/split_dim' with dtype int32\n",
      "\t [[{{node gradients/split_1_grad/concat/split_1/split_dim}}]]\n",
      "2024-04-24 15:40:33.844344: I tensorflow/core/common_runtime/executor.cc:1197] [/device:CPU:0] (DEBUG INFO) Executor start aborting (this does not indicate an error and you can ignore this message): INVALID_ARGUMENT: You must feed a value for placeholder tensor 'gradients/split_2_grad/concat/split_2/split_dim' with dtype int32\n",
      "\t [[{{node gradients/split_2_grad/concat/split_2/split_dim}}]]\n",
      "2024-04-24 15:40:33.844763: I tensorflow/core/common_runtime/executor.cc:1197] [/device:CPU:0] (DEBUG INFO) Executor start aborting (this does not indicate an error and you can ignore this message): INVALID_ARGUMENT: You must feed a value for placeholder tensor 'gradients/split_grad/concat/split/split_dim' with dtype int32\n",
      "\t [[{{node gradients/split_grad/concat/split/split_dim}}]]\n",
      "2024-04-24 15:40:33.845137: I tensorflow/core/common_runtime/executor.cc:1197] [/device:CPU:0] (DEBUG INFO) Executor start aborting (this does not indicate an error and you can ignore this message): INVALID_ARGUMENT: You must feed a value for placeholder tensor 'gradients/split_1_grad/concat/split_1/split_dim' with dtype int32\n",
      "\t [[{{node gradients/split_1_grad/concat/split_1/split_dim}}]]\n"
     ]
    },
    {
     "name": "stdout",
     "output_type": "stream",
     "text": [
      "53/53 [==============================] - 2s 6ms/step - loss: 0.9872\n",
      "Epoch 2/100\n",
      "53/53 [==============================] - 0s 5ms/step - loss: 0.9552\n",
      "Epoch 3/100\n",
      "53/53 [==============================] - 0s 5ms/step - loss: 0.9449\n",
      "Epoch 4/100\n",
      "53/53 [==============================] - 0s 4ms/step - loss: 0.9460\n",
      "Epoch 5/100\n",
      "53/53 [==============================] - 0s 5ms/step - loss: 0.9396\n",
      "Epoch 6/100\n",
      "53/53 [==============================] - 0s 5ms/step - loss: 0.9440\n",
      "Epoch 7/100\n",
      "53/53 [==============================] - 0s 5ms/step - loss: 0.9403\n",
      "Epoch 8/100\n",
      "53/53 [==============================] - 0s 5ms/step - loss: 0.9394\n",
      "Epoch 9/100\n",
      "53/53 [==============================] - 0s 5ms/step - loss: 0.9326\n",
      "Epoch 10/100\n",
      "53/53 [==============================] - 0s 5ms/step - loss: 0.9354\n",
      "Epoch 11/100\n",
      "53/53 [==============================] - 0s 5ms/step - loss: 0.9339\n",
      "Epoch 12/100\n",
      "53/53 [==============================] - 0s 5ms/step - loss: 0.9320\n",
      "Epoch 13/100\n",
      "53/53 [==============================] - 0s 5ms/step - loss: 0.9323\n",
      "Epoch 14/100\n",
      "53/53 [==============================] - 0s 5ms/step - loss: 0.9385\n",
      "Epoch 15/100\n",
      "53/53 [==============================] - 0s 5ms/step - loss: 0.9361\n",
      "Epoch 16/100\n",
      "53/53 [==============================] - 0s 5ms/step - loss: 0.9250\n",
      "Epoch 17/100\n",
      "53/53 [==============================] - 0s 5ms/step - loss: 0.9286\n",
      "Epoch 18/100\n",
      "53/53 [==============================] - 0s 5ms/step - loss: 0.9338\n",
      "Epoch 19/100\n",
      "53/53 [==============================] - 0s 5ms/step - loss: 0.9337\n",
      "Epoch 20/100\n",
      "53/53 [==============================] - 0s 5ms/step - loss: 0.9348\n",
      "Epoch 21/100\n",
      "53/53 [==============================] - 0s 5ms/step - loss: 0.9265\n",
      "Epoch 22/100\n",
      "53/53 [==============================] - 0s 5ms/step - loss: 0.9335\n",
      "Epoch 23/100\n",
      "53/53 [==============================] - 0s 5ms/step - loss: 0.9351\n",
      "Epoch 24/100\n",
      "53/53 [==============================] - 0s 5ms/step - loss: 0.9325\n",
      "Epoch 25/100\n",
      "53/53 [==============================] - 0s 5ms/step - loss: 0.9258\n",
      "Epoch 26/100\n",
      "53/53 [==============================] - 0s 5ms/step - loss: 0.9338\n",
      "Epoch 27/100\n",
      "53/53 [==============================] - 0s 5ms/step - loss: 0.9305\n",
      "Epoch 28/100\n",
      "53/53 [==============================] - 0s 5ms/step - loss: 0.9296\n",
      "Epoch 29/100\n",
      "53/53 [==============================] - 0s 5ms/step - loss: 0.9246\n",
      "Epoch 30/100\n",
      "53/53 [==============================] - 0s 5ms/step - loss: 0.9277\n",
      "Epoch 31/100\n",
      "53/53 [==============================] - 0s 5ms/step - loss: 0.9360\n",
      "Epoch 32/100\n",
      "53/53 [==============================] - 0s 5ms/step - loss: 0.9267\n",
      "Epoch 33/100\n",
      "53/53 [==============================] - 0s 5ms/step - loss: 0.9312\n",
      "Epoch 34/100\n",
      "53/53 [==============================] - 0s 5ms/step - loss: 0.9340\n",
      "Epoch 35/100\n",
      "53/53 [==============================] - 0s 5ms/step - loss: 0.9286\n",
      "Epoch 36/100\n",
      "53/53 [==============================] - 0s 5ms/step - loss: 0.9285\n",
      "Epoch 37/100\n",
      "53/53 [==============================] - 0s 5ms/step - loss: 0.9232\n",
      "Epoch 38/100\n",
      "53/53 [==============================] - 0s 5ms/step - loss: 0.9273\n",
      "Epoch 39/100\n",
      "53/53 [==============================] - 0s 5ms/step - loss: 0.9262\n",
      "Epoch 40/100\n",
      "53/53 [==============================] - 0s 5ms/step - loss: 0.9256\n",
      "Epoch 41/100\n",
      "53/53 [==============================] - 0s 5ms/step - loss: 0.9237\n",
      "Epoch 42/100\n",
      "53/53 [==============================] - 0s 5ms/step - loss: 0.9265\n",
      "Epoch 43/100\n",
      "53/53 [==============================] - 0s 5ms/step - loss: 0.9248\n",
      "Epoch 44/100\n",
      "53/53 [==============================] - 0s 5ms/step - loss: 0.9240\n",
      "Epoch 45/100\n",
      "53/53 [==============================] - 0s 5ms/step - loss: 0.9288\n",
      "Epoch 46/100\n",
      "53/53 [==============================] - 0s 5ms/step - loss: 0.9291\n",
      "Epoch 47/100\n",
      "53/53 [==============================] - 0s 5ms/step - loss: 0.9271\n",
      "Epoch 48/100\n",
      "53/53 [==============================] - 0s 5ms/step - loss: 0.9331\n",
      "Epoch 49/100\n",
      "53/53 [==============================] - 0s 5ms/step - loss: 0.9241\n",
      "Epoch 50/100\n",
      "53/53 [==============================] - 0s 5ms/step - loss: 0.9280\n",
      "Epoch 51/100\n",
      "53/53 [==============================] - 0s 5ms/step - loss: 0.9218\n",
      "Epoch 52/100\n",
      "53/53 [==============================] - 0s 5ms/step - loss: 0.9194\n",
      "Epoch 53/100\n",
      "53/53 [==============================] - 0s 5ms/step - loss: 0.9260\n",
      "Epoch 54/100\n",
      "53/53 [==============================] - 0s 5ms/step - loss: 0.9260\n",
      "Epoch 55/100\n",
      "53/53 [==============================] - 0s 5ms/step - loss: 0.9232\n",
      "Epoch 56/100\n",
      "53/53 [==============================] - 0s 5ms/step - loss: 0.9245\n",
      "Epoch 57/100\n",
      "53/53 [==============================] - 0s 5ms/step - loss: 0.9305\n",
      "Epoch 58/100\n",
      "53/53 [==============================] - 0s 5ms/step - loss: 0.9255\n",
      "Epoch 59/100\n",
      "53/53 [==============================] - 0s 5ms/step - loss: 0.9266\n",
      "Epoch 60/100\n",
      "53/53 [==============================] - 0s 5ms/step - loss: 0.9252\n",
      "Epoch 61/100\n",
      "53/53 [==============================] - 0s 5ms/step - loss: 0.9238\n",
      "Epoch 62/100\n",
      "53/53 [==============================] - 0s 5ms/step - loss: 0.9221\n",
      "Epoch 63/100\n",
      "53/53 [==============================] - 0s 5ms/step - loss: 0.9198\n",
      "Epoch 64/100\n",
      "53/53 [==============================] - 0s 5ms/step - loss: 0.9251\n",
      "Epoch 65/100\n",
      "53/53 [==============================] - 0s 5ms/step - loss: 0.9300\n",
      "Epoch 66/100\n",
      "53/53 [==============================] - 0s 5ms/step - loss: 0.9270\n",
      "Epoch 67/100\n",
      "53/53 [==============================] - 0s 5ms/step - loss: 0.9244\n",
      "Epoch 68/100\n",
      "53/53 [==============================] - 0s 5ms/step - loss: 0.9222\n",
      "Epoch 69/100\n",
      "53/53 [==============================] - 0s 5ms/step - loss: 0.9252\n",
      "Epoch 70/100\n",
      "53/53 [==============================] - 0s 5ms/step - loss: 0.9260\n",
      "Epoch 71/100\n",
      "53/53 [==============================] - 0s 5ms/step - loss: 0.9215\n",
      "Epoch 72/100\n",
      "53/53 [==============================] - 0s 5ms/step - loss: 0.9215\n",
      "Epoch 73/100\n",
      "53/53 [==============================] - 0s 5ms/step - loss: 0.9200\n",
      "Epoch 74/100\n",
      "53/53 [==============================] - 0s 5ms/step - loss: 0.9255\n",
      "Epoch 75/100\n",
      "53/53 [==============================] - 0s 5ms/step - loss: 0.9266\n",
      "Epoch 76/100\n",
      "53/53 [==============================] - 0s 5ms/step - loss: 0.9230\n",
      "Epoch 77/100\n",
      "53/53 [==============================] - 0s 5ms/step - loss: 0.9206\n",
      "Epoch 78/100\n",
      "53/53 [==============================] - 0s 5ms/step - loss: 0.9273\n",
      "Epoch 79/100\n",
      "53/53 [==============================] - 0s 5ms/step - loss: 0.9236\n",
      "Epoch 80/100\n",
      "53/53 [==============================] - 0s 5ms/step - loss: 0.9256\n",
      "Epoch 81/100\n",
      "53/53 [==============================] - 0s 5ms/step - loss: 0.9256\n",
      "Epoch 82/100\n",
      "53/53 [==============================] - 0s 5ms/step - loss: 0.9249\n",
      "Epoch 83/100\n",
      "53/53 [==============================] - 0s 5ms/step - loss: 0.9201\n",
      "Epoch 84/100\n",
      "53/53 [==============================] - 0s 5ms/step - loss: 0.9190\n",
      "Epoch 85/100\n",
      "53/53 [==============================] - 0s 5ms/step - loss: 0.9227\n",
      "Epoch 86/100\n",
      "53/53 [==============================] - 0s 5ms/step - loss: 0.9266\n",
      "Epoch 87/100\n",
      "53/53 [==============================] - 0s 5ms/step - loss: 0.9234\n",
      "Epoch 88/100\n",
      "53/53 [==============================] - 0s 5ms/step - loss: 0.9234\n",
      "Epoch 89/100\n",
      "53/53 [==============================] - 0s 5ms/step - loss: 0.9261\n",
      "Epoch 90/100\n",
      "53/53 [==============================] - 0s 5ms/step - loss: 0.9238\n",
      "Epoch 91/100\n",
      "53/53 [==============================] - 0s 5ms/step - loss: 0.9231\n",
      "Epoch 92/100\n",
      "53/53 [==============================] - 0s 5ms/step - loss: 0.9194\n",
      "Epoch 93/100\n",
      "53/53 [==============================] - 0s 5ms/step - loss: 0.9265\n",
      "Epoch 94/100\n",
      "53/53 [==============================] - 0s 5ms/step - loss: 0.9252\n",
      "Epoch 95/100\n",
      "53/53 [==============================] - 0s 5ms/step - loss: 0.9225\n",
      "Epoch 96/100\n",
      "53/53 [==============================] - 0s 5ms/step - loss: 0.9225\n",
      "Epoch 97/100\n",
      "53/53 [==============================] - 0s 5ms/step - loss: 0.9182\n",
      "Epoch 98/100\n",
      "53/53 [==============================] - 0s 5ms/step - loss: 0.9168\n",
      "Epoch 99/100\n",
      "53/53 [==============================] - 0s 5ms/step - loss: 0.9248\n",
      "Epoch 100/100\n",
      "53/53 [==============================] - 0s 5ms/step - loss: 0.9195\n"
     ]
    },
    {
     "data": {
      "text/plain": [
       "<keras.callbacks.History at 0x3057e30d0>"
      ]
     },
     "execution_count": 30,
     "metadata": {},
     "output_type": "execute_result"
    }
   ],
   "execution_count": 30
  },
  {
   "metadata": {
    "ExecuteTime": {
     "end_time": "2024-04-24T19:41:40.682336Z",
     "start_time": "2024-04-24T19:41:40.575288Z"
    }
   },
   "cell_type": "code",
   "source": "y_pred = model.predict(btc_features)",
   "outputs": [
    {
     "name": "stdout",
     "output_type": "stream",
     "text": [
      "53/53 [==============================] - 0s 1ms/step\n"
     ]
    }
   ],
   "execution_count": 33
  },
  {
   "metadata": {
    "ExecuteTime": {
     "end_time": "2024-04-24T19:46:51.685427Z",
     "start_time": "2024-04-24T19:46:51.681644Z"
    }
   },
   "cell_type": "code",
   "source": [
    "y_pred = np.where(y_pred > 0, 1, -1) \n",
    "tmp = pd.DataFrame({'date':btc['date'],'pred':y_pred.flatten()})\n",
    "tmp['return'] = btc_target * tmp['pred']"
   ],
   "outputs": [],
   "execution_count": 40
  },
  {
   "metadata": {
    "ExecuteTime": {
     "end_time": "2024-04-24T19:53:44.739460Z",
     "start_time": "2024-04-24T19:53:44.734659Z"
    }
   },
   "cell_type": "code",
   "source": "tmp['remain'] = tmp['return'].apply(lambda x: x+1 )",
   "outputs": [],
   "execution_count": 42
  },
  {
   "metadata": {
    "ExecuteTime": {
     "end_time": "2024-04-24T19:55:34.132275Z",
     "start_time": "2024-04-24T19:55:34.128066Z"
    }
   },
   "cell_type": "code",
   "source": "tmp['cumprod'] = tmp['remain'].cumprod()",
   "outputs": [],
   "execution_count": 43
  },
  {
   "metadata": {
    "ExecuteTime": {
     "end_time": "2024-04-24T19:56:10.639341Z",
     "start_time": "2024-04-24T19:56:06.627990Z"
    }
   },
   "cell_type": "code",
   "source": "plt.plot(tmp['date'], tmp['cumprod'], label='cumulative return')",
   "outputs": [
    {
     "data": {
      "text/plain": [
       "[<matplotlib.lines.Line2D at 0x30e7622b0>]"
      ]
     },
     "execution_count": 44,
     "metadata": {},
     "output_type": "execute_result"
    },
    {
     "data": {
      "text/plain": [
       "<Figure size 640x480 with 1 Axes>"
      ],
      "image/png": "[encoded data removed]"
     },
     "metadata": {},
     "output_type": "display_data"
    }
   ],
   "execution_count": 44
  },
  {
   "metadata": {},
   "cell_type": "code",
   "outputs": [],
   "execution_count": null,
   "source": ""
  }
 ],
 "metadata": {
  "kernelspec": {
   "display_name": "ml",
   "language": "python",
   "name": "python3"
  },
  "language_info": {
   "codemirror_mode": {
    "name": "ipython",
    "version": 3
   },
   "file_extension": ".py",
   "mimetype": "text/x-python",
   "name": "python",
   "nbconvert_exporter": "python",
   "pygments_lexer": "ipython3",
   "version": "3.9.18"
  }
 },
 "nbformat": 4,
 "nbformat_minor": 2
}
